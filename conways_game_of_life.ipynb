{
 "cells": [
  {
   "cell_type": "markdown",
   "metadata": {},
   "source": [
    "# Conways game of life\n",
    "\n",
    "Given a 2D array and a number of generations, compute n timesteps of Conway's Game of Life.\n",
    "\n",
    "The rules of the game are:\n",
    "\n",
    "1. Any live cell with fewer than two live neighbours dies, as if caused by underpopulation.\n",
    "1. Any live cell with more than three live neighbours dies, as if by overcrowding.\n",
    "1. Any live cell with two or three live neighbours lives on to the next generation.\n",
    "1. Any dead cell with exactly three live neighbours becomes a live cell.\n",
    "\n",
    "Each cell's neighborhood is the 8 cells immediately around it (i.e. Moore Neighborhood). The universe is infinite in both the x and y dimensions and all cells are initially dead - except for those specified in the arguments. The return value should be a 2d array cropped around all of the living cells. (If there are no living cells, then return [[]].)"
   ]
  },
  {
   "cell_type": "code",
   "execution_count": 1,
   "metadata": {},
   "outputs": [],
   "source": [
    "class game_of_life:\n",
    "    \n",
    "    def __init__(self, cells=[], generations=1):\n",
    "        \"\"\"\n",
    "        initialize all variables and calculate the dimensions\n",
    "        \"\"\"\n",
    "        \n",
    "        self.cells = cells.copy()\n",
    "        self.generations = generations\n",
    "        self.dim_y = len(cells)\n",
    "        self.dim_x = len(cells[0])\n",
    "        self.cur_dim_y = 0\n",
    "        self.cur_dim_x = 0\n",
    "    \n",
    "    def get_neighbors(self, y, x):\n",
    "        \"\"\"\n",
    "        gets all neighbors around current cell and returns them in a list\n",
    "        \"\"\"\n",
    "        \n",
    "        neighbor_list = []\n",
    "        \n",
    "        for i in range(y-1, y+2):\n",
    "            if i < 0 or i > (self.cur_dim_y - 1):\n",
    "                continue\n",
    "            else:\n",
    "                for j in range(x-1, x+2):\n",
    "                    if j < 0 or j > (self.cur_dim_x - 1):\n",
    "                        continue\n",
    "                    elif i == y and j == x:\n",
    "                        continue\n",
    "                    else:\n",
    "                        neighbor_list.append(self.cells[i][j])\n",
    "                \n",
    "        return neighbor_list\n",
    "    \n",
    "    def check_neighbors(self, cur_cell, neighbor_list):\n",
    "        \"\"\"\n",
    "        checks cur_cell if living or dead and returns status of next generation cell by\n",
    "        comparing next generation by evaluating the neighborlist\n",
    "        \"\"\"\n",
    "        \n",
    "        next_gen_cell = cur_cell\n",
    "        alive_count = neighbor_list.count(1)\n",
    "        \n",
    "        if cur_cell == 1:\n",
    "            if alive_count == 2 or alive_count == 3:\n",
    "                next_gen_cell = 1\n",
    "            else:\n",
    "                next_gen_cell = 0\n",
    "        else:\n",
    "            if alive_count == 3:\n",
    "                next_gen_cell = 1\n",
    "            \n",
    "        return next_gen_cell\n",
    "    \n",
    "    def add_empty_boarder(self, cur_field, cur_dim_y, cur_dim_x):\n",
    "        \"\"\"\n",
    "        adds around the current field a boarder with dead cells\n",
    "        \"\"\"\n",
    "        import numpy as np\n",
    "        \n",
    "        new_field = np.zeros((cur_dim_y+2, cur_dim_x+2))\n",
    "        for y, row in enumerate(cur_field):\n",
    "            for x, cur_cell in enumerate(row):\n",
    "                new_field[y+1,x+1] = cur_cell\n",
    "        \n",
    "        return new_field\n",
    "    \n",
    "    def remove_empty_boarder(self, new_cells):\n",
    "        \"\"\"\n",
    "        removes the every empty column and row of the field\n",
    "        \"\"\"\n",
    "        import numpy as np\n",
    "        \n",
    "        new_cells = np.array(new_cells)\n",
    "        removing = True\n",
    "        \n",
    "        while removing == True:\n",
    "            if len(new_cells) == 0:\n",
    "                return [[]]\n",
    "            elif np.count_nonzero(new_cells[0]) == 0:\n",
    "                new_cells = np.delete(new_cells, 0, 0)\n",
    "            elif np.count_nonzero(new_cells[::-1][0]) == 0:\n",
    "                new_cells = np.delete(new_cells, -1, 0)\n",
    "            elif np.count_nonzero(new_cells.T[0]) == 0:\n",
    "                new_cells = np.delete(new_cells, 0, 1)\n",
    "            elif np.count_nonzero(new_cells.T[::-1][0]) == 0:\n",
    "                new_cells = np.delete(new_cells, -1, 1)\n",
    "            else:\n",
    "                removing = False\n",
    "                 \n",
    "        return new_cells\n",
    " \n",
    "    def evaluate_generations(self):\n",
    "        \"\"\"\n",
    "        visits every element of the field, gets neighbors, checks neighbors and updates\n",
    "        cells.\n",
    "        \"\"\"\n",
    "        from copy import deepcopy\n",
    "        import numpy as np\n",
    "        \n",
    "        self.cells = deepcopy(self.add_empty_boarder(self.cells, self.dim_y, self.dim_x))\n",
    "        new_cells = deepcopy(self.cells)\n",
    "\n",
    "        for generation in range(0,self.generations):\n",
    "            self.cur_dim_y = len(self.cells)\n",
    "            self.cur_dim_x = len(self.cells[0])\n",
    "            new_cells = deepcopy(self.add_empty_boarder(new_cells, self.cur_dim_y, self.cur_dim_x))\n",
    "            self.cells = deepcopy(new_cells)\n",
    "            for y, row in enumerate(self.cells):\n",
    "                for x, cur_cell in enumerate(row):\n",
    "                    neighbor_list = self.get_neighbors(y, x)\n",
    "                    new_cells[y][x] = self.check_neighbors(cur_cell, neighbor_list)\n",
    "                    \n",
    "        new_cells = self.remove_empty_boarder(new_cells)\n",
    "        \n",
    "        return new_cells.tolist()\n"
   ]
  },
  {
   "cell_type": "code",
   "execution_count": 2,
   "metadata": {},
   "outputs": [],
   "source": [
    "def get_generation(cells, generations):\n",
    "    result = game_of_life(cells=cells, generations=generations)\n",
    "    return result.evaluate_generations()\n"
   ]
  },
  {
   "cell_type": "code",
   "execution_count": 3,
   "metadata": {},
   "outputs": [],
   "source": [
    "example = [[1,0,0],\n",
    "           [0,1,1],\n",
    "           [1,1,0]]"
   ]
  },
  {
   "cell_type": "code",
   "execution_count": 4,
   "metadata": {},
   "outputs": [],
   "source": [
    "result = get_generation(cells=example, generations=1)"
   ]
  },
  {
   "cell_type": "code",
   "execution_count": 5,
   "metadata": {},
   "outputs": [
    {
     "data": {
      "text/plain": [
       "[[0.0, 1.0, 0.0], [0.0, 0.0, 1.0], [1.0, 1.0, 1.0]]"
      ]
     },
     "execution_count": 5,
     "metadata": {},
     "output_type": "execute_result"
    }
   ],
   "source": [
    "result"
   ]
  }
 ],
 "metadata": {
  "kernelspec": {
   "display_name": "Python 3",
   "language": "python",
   "name": "python3"
  },
  "language_info": {
   "codemirror_mode": {
    "name": "ipython",
    "version": 3
   },
   "file_extension": ".py",
   "mimetype": "text/x-python",
   "name": "python",
   "nbconvert_exporter": "python",
   "pygments_lexer": "ipython3",
   "version": "3.7.7"
  }
 },
 "nbformat": 4,
 "nbformat_minor": 4
}
